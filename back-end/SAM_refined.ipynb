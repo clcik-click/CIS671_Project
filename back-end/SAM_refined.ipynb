{
 "cells": [
  {
   "cell_type": "code",
   "execution_count": null,
   "metadata": {},
   "outputs": [],
   "source": [
    "MODEL_PATH      = \"SAM_models/sam_vit_b_01ec64.pth\"\n",
    "IMAGE_PATH      = \"Images/Original_Img.jpg\"\n",
    "STROKES_PATH    = \"Images/Strokes.json\" \n",
    "TREND_PATH      = \"Images/Trend.jpg\"\n",
    "SAM_PATH        = \"Images/SAM_Img.jpg\"\n",
    "\n",
    "import  numpy as np\n",
    "import  cv2\n",
    "import  matplotlib.pyplot as plt\n",
    "import  json\n",
    "import  csv\n",
    "import  pandas as pd\n",
    "from    segment_anything import sam_model_registry, SamAutomaticMaskGenerator\n",
    "from    skimage.measure import label"
   ]
  },
  {
   "cell_type": "code",
   "execution_count": null,
   "metadata": {},
   "outputs": [],
   "source": [
    "# Procedure "
   ]
  },
  {
   "cell_type": "code",
   "execution_count": null,
   "metadata": {},
   "outputs": [],
   "source": [
    "# Step 1: Full image automatic masks detection\n",
    "\n",
    "# Load SAM Model - using the ViT-B SAM model \n",
    "DEVICE = \"cpu\" \n",
    "sam    = sam_model_registry[\"vit_b\"](checkpoint=MODEL_PATH).to(DEVICE)\n",
    "\n",
    "# Create an automatic mask generator \n",
    "mask_generator = SamAutomaticMaskGenerator(\n",
    "    sam,\n",
    "    points_per_side         = 16,  \n",
    "    pred_iou_thresh         = 0.85, \n",
    "    stability_score_thresh  = 0.9,\n",
    "    min_mask_region_area    = 1000\n",
    ")\n",
    "\n",
    "# Load and prepare an image - BGR to RGB\n",
    "image = cv2.imread(IMAGE_PATH)\n",
    "image = cv2.cvtColor(image, cv2.COLOR_BGR2RGB)\n",
    "\n",
    "# Generate masks\n",
    "masks = mask_generator.generate(image)"
   ]
  },
  {
   "cell_type": "code",
   "execution_count": null,
   "metadata": {},
   "outputs": [],
   "source": [
    "# Step 2: User mask-processing\n",
    "\n",
    "img_height, img_width   = image.shape[:2]\n",
    "\n",
    "print(f\"[INFO] Loaded image: {IMAGE_PATH}\")\n",
    "print(f\"[INFO] Image size: height={img_height}, width={img_width}\")\n",
    "\n",
    "# Prepare blank mask\n",
    "user_mask = np.zeros((img_height, img_width), dtype=np.uint8)\n",
    "\n",
    "# Load strokes\n",
    "with open(STROKES_PATH, \"r\") as f:\n",
    "    strokes_data = json.load(f)\n",
    "\n",
    "# Draw strokes on mask\n",
    "for stroke in strokes_data:\n",
    "    points = np.array([[int(p[\"x\"]), int(p[\"y\"])] for p in stroke[\"points\"]], dtype=np.int32)\n",
    "    points = points.reshape((-1, 1, 2))\n",
    "    cv2.fillPoly(user_mask, [points], color=1)\n",
    "\n",
    "# Optionally fill\n",
    "user_mask = cv2.dilate(user_mask, np.ones((3, 3), np.uint8), iterations=1)\n",
    "user_mask = cv2.morphologyEx(user_mask, cv2.MORPH_CLOSE, np.ones((5, 5), np.uint8))\n",
    "user_mask = (user_mask > 0).astype(np.uint8)\n",
    "\n",
    "print(f\"[INFO] User mask size: {user_mask.shape}\")\n",
    "print(f\"[INFO] User mask non-zero pixels: {np.count_nonzero(user_mask)}\")"
   ]
  },
  {
   "cell_type": "code",
   "execution_count": null,
   "metadata": {},
   "outputs": [],
   "source": [
    "def compute_iou(mask1, mask2):\n",
    "    intersection = np.logical_and(mask1, mask2).sum()\n",
    "    union = np.logical_or(mask1, mask2).sum()\n",
    "    return intersection / union if union > 0 else 0.0"
   ]
  },
  {
   "cell_type": "code",
   "execution_count": null,
   "metadata": {},
   "outputs": [],
   "source": [
    "# Step 3: User masks vs SAM Segmentation\n",
    "\n",
    "combined_user_mask  = np.zeros_like(user_mask)\n",
    "combined_sam_mask   = np.zeros_like(user_mask)\n",
    "ious                = []\n",
    "user_labeled        = label(user_mask)  # This gives labels like 0,1,2,3 (0 is background)\n",
    "num_regions         = np.max(user_labeled)\n",
    "user_masks          = [(user_labeled == i).astype(np.uint8) for i in range(1, num_regions + 1)]\n",
    "print(f\"[INFO] Found {num_regions} user-defined regions.\")\n",
    "\n",
    "# Convert all SAM masks to binary masks\n",
    "sam_binary_masks = [m[\"segmentation\"].astype(np.uint8) for m in masks]\n",
    "\n",
    "for i, u_mask in enumerate(user_masks):\n",
    "    best_iou = 0\n",
    "    best_idx = -1\n",
    "    for j, s_mask in enumerate(sam_binary_masks):\n",
    "        # Resize if needed\n",
    "        if s_mask.shape != u_mask.shape:\n",
    "            s_mask = cv2.resize(s_mask, (u_mask.shape[1], u_mask.shape[0]), interpolation=cv2.INTER_NEAREST)\n",
    "\n",
    "        iou = compute_iou(u_mask, s_mask)\n",
    "        if iou > best_iou:\n",
    "            best_iou = iou\n",
    "            best_idx = j\n",
    "\n",
    "    best_sam = sam_binary_masks[best_idx]\n",
    "    combined_user_mask = np.logical_or(combined_user_mask, u_mask)\n",
    "    combined_sam_mask = np.logical_or(combined_sam_mask, best_sam)\n",
    "    ious.append(best_iou)\n",
    "\n",
    "avg_iou = sum(ious) / len(ious)\n",
    "print(f\"[INFO] Average IoU: {avg_iou:.4f}\")"
   ]
  },
  {
   "cell_type": "code",
   "execution_count": null,
   "metadata": {},
   "outputs": [],
   "source": [
    "with open(\"iou_results.csv\", \"a\", newline=\"\") as f:\n",
    "    writer = csv.writer(f)\n",
    "    writer.writerow([avg_iou])"
   ]
  },
  {
   "cell_type": "code",
   "execution_count": null,
   "metadata": {},
   "outputs": [],
   "source": [
    "# Step 4: Create visualization\n",
    "\n",
    "# Red = User only, Green = SAM only, Yellow = overlap\n",
    "user_only = np.logical_and(combined_user_mask == 1, combined_sam_mask == 0)\n",
    "sam_only  = np.logical_and(combined_user_mask == 0, combined_sam_mask == 1)\n",
    "both      = np.logical_and(combined_user_mask == 1, combined_sam_mask == 1)\n",
    "\n",
    "overlay_mask = np.zeros_like(image)\n",
    "overlay_mask[user_only] = [255, 0, 0]     # Red\n",
    "overlay_mask[sam_only]  = [0, 255, 0]     # Green\n",
    "overlay_mask[both]      = [255, 255, 0]   # Yellow\n",
    "\n",
    "# Blend with original image\n",
    "alpha = 0.4\n",
    "final_overlay = cv2.addWeighted(image, 1.0, overlay_mask, alpha, 0)\n",
    "plt.figure(figsize=(10, 8))\n",
    "plt.imshow(final_overlay)\n",
    "plt.axis(\"off\")\n",
    "\n",
    "# Add legend\n",
    "from matplotlib.patches import Patch\n",
    "legend_elements = [\n",
    "    Patch(facecolor='red',   edgecolor='black', label='User Only'),\n",
    "    Patch(facecolor='green', edgecolor='black', label='SAM Only'),\n",
    "    Patch(facecolor='yellow',edgecolor='black', label='Overlap'),\n",
    "]\n",
    "plt.legend(handles=legend_elements, loc='lower right', fontsize=10)\n",
    "\n",
    "plt.subplots_adjust(left=0, right=1, top=1, bottom=0)\n",
    "plt.tight_layout()\n",
    "plt.savefig(SAM_PATH, bbox_inches='tight', pad_inches=0)\n",
    "plt.show()"
   ]
  },
  {
   "cell_type": "code",
   "execution_count": null,
   "metadata": {},
   "outputs": [],
   "source": [
    "# Trend visualization\n",
    "df = pd.read_csv(\"iou_results.csv\", header=None, names=[\"avg_iou\"])\n",
    "\n",
    "# Plot it\n",
    "plt.figure(figsize=(8, 5))\n",
    "plt.plot(range(len(df)), df[\"avg_iou\"], marker='o', linestyle='-')\n",
    "plt.title(\"Intersection over Union\")\n",
    "plt.xlabel(\"Image Index\")\n",
    "plt.ylabel(\"Average IoU\")\n",
    "plt.ylim(0, 1)\n",
    "plt.xticks(range(len(df))) \n",
    "plt.grid(True)\n",
    "plt.tight_layout()\n",
    "plt.savefig(TREND_PATH)\n",
    "plt.show()\n"
   ]
  }
 ],
 "metadata": {
  "kernelspec": {
   "display_name": "Python 3",
   "language": "python",
   "name": "python3"
  },
  "language_info": {
   "codemirror_mode": {
    "name": "ipython",
    "version": 3
   },
   "file_extension": ".py",
   "mimetype": "text/x-python",
   "name": "python",
   "nbconvert_exporter": "python",
   "pygments_lexer": "ipython3",
   "version": "3.12.6"
  }
 },
 "nbformat": 4,
 "nbformat_minor": 2
}
